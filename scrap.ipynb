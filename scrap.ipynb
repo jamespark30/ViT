{
 "cells": [
  {
   "cell_type": "code",
   "execution_count": 1,
   "metadata": {},
   "outputs": [],
   "source": [
    "import torch"
   ]
  },
  {
   "cell_type": "code",
   "execution_count": 34,
   "metadata": {},
   "outputs": [
    {
     "name": "stdout",
     "output_type": "stream",
     "text": [
      "tensor([ 1,  3,  6,  8, 10, 13, 15, 17, 20])\n",
      "tensor([3, 2, 1, 0, 7, 5, 4])\n",
      "tensor([1., 2., 3., 2., 5., 8., 2., 1., 2., 3., 2., 5., 8., 2., 1., 2., 3., 2.,\n",
      "        5., 8., 2.])\n"
     ]
    }
   ],
   "source": [
    "t = torch.Tensor([1, 2, 3, 2, 5, 8, 2, 1, 2, 3, 2, 5, 8, 2, 1, 2, 3, 2, 5, 8, 2])\n",
    "idx = (t==2).nonzero(as_tuple=True)[0]\n",
    "p = 0.8\n",
    "idx2 = torch.randperm(idx.size(0))[:int(idx.size(0)*p)]\n",
    "\n",
    "print(idx)\n",
    "print(idx2)\n",
    "\n",
    "# t = idx[idx2] += 1000.\n",
    "print(t)\n",
    "#(t == 1).nonzero(as_tuple=True)[0]\n",
    "\n",
    "# print(idx)\n",
    "# print(dd)\n",
    "\n",
    "\n",
    "# x = torch.tensor([1.0, 2.0, 3.0, 4.0, 5.0, 6.0, 7.0, 8.0, 9.0, 10.0])\n",
    "# p = 0.2\n",
    "# idx = torch.randperm(x.size(0))[:int(x.size(0)*p)]\n",
    "# x[idx] += 10.\n",
    "# print(idx, x)"
   ]
  },
  {
   "cell_type": "code",
   "execution_count": 8,
   "metadata": {},
   "outputs": [],
   "source": [
    "a = torch.rand(2,6,4)"
   ]
  },
  {
   "cell_type": "code",
   "execution_count": 11,
   "metadata": {},
   "outputs": [],
   "source": [
    "b = torch.tensor([[0,1,2],[1,2,3]])"
   ]
  },
  {
   "cell_type": "code",
   "execution_count": 14,
   "metadata": {},
   "outputs": [
    {
     "data": {
      "text/plain": [
       "tensor([[[0.8147, 0.8236, 0.8627, 0.1525],\n",
       "         [0.6685, 0.5481, 0.0221, 0.5344],\n",
       "         [0.9117, 0.5772, 0.5216, 0.5589],\n",
       "         [0.5426, 0.0492, 0.4549, 0.4488],\n",
       "         [0.7154, 0.0356, 0.3257, 0.8024],\n",
       "         [0.3679, 0.4271, 0.8270, 0.5147]],\n",
       "\n",
       "        [[0.0908, 0.9541, 0.1238, 0.1288],\n",
       "         [0.3720, 0.0257, 0.2582, 0.9554],\n",
       "         [0.4001, 0.7001, 0.7651, 0.8985],\n",
       "         [0.0635, 0.6687, 0.6294, 0.0050],\n",
       "         [0.2122, 0.3229, 0.9145, 0.6928],\n",
       "         [0.6203, 0.2038, 0.6570, 0.5542]]])"
      ]
     },
     "execution_count": 14,
     "metadata": {},
     "output_type": "execute_result"
    }
   ],
   "source": [
    "a"
   ]
  },
  {
   "cell_type": "code",
   "execution_count": 16,
   "metadata": {},
   "outputs": [
    {
     "data": {
      "text/plain": [
       "tensor([[[[0.8147, 0.8236, 0.8627, 0.1525],\n",
       "          [0.6685, 0.5481, 0.0221, 0.5344],\n",
       "          [0.9117, 0.5772, 0.5216, 0.5589]],\n",
       "\n",
       "         [[0.6685, 0.5481, 0.0221, 0.5344],\n",
       "          [0.9117, 0.5772, 0.5216, 0.5589],\n",
       "          [0.5426, 0.0492, 0.4549, 0.4488]]],\n",
       "\n",
       "\n",
       "        [[[0.0908, 0.9541, 0.1238, 0.1288],\n",
       "          [0.3720, 0.0257, 0.2582, 0.9554],\n",
       "          [0.4001, 0.7001, 0.7651, 0.8985]],\n",
       "\n",
       "         [[0.3720, 0.0257, 0.2582, 0.9554],\n",
       "          [0.4001, 0.7001, 0.7651, 0.8985],\n",
       "          [0.0635, 0.6687, 0.6294, 0.0050]]]])"
      ]
     },
     "execution_count": 16,
     "metadata": {},
     "output_type": "execute_result"
    }
   ],
   "source": [
    "a[:, b, :]"
   ]
  },
  {
   "cell_type": "code",
   "execution_count": null,
   "metadata": {},
   "outputs": [],
   "source": []
  }
 ],
 "metadata": {
  "kernelspec": {
   "display_name": "MM",
   "language": "python",
   "name": "python3"
  },
  "language_info": {
   "codemirror_mode": {
    "name": "ipython",
    "version": 3
   },
   "file_extension": ".py",
   "mimetype": "text/x-python",
   "name": "python",
   "nbconvert_exporter": "python",
   "pygments_lexer": "ipython3",
   "version": "3.11.8"
  }
 },
 "nbformat": 4,
 "nbformat_minor": 2
}
